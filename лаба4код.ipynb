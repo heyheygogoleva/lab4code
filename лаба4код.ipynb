{
 "cells": [
  {
   "cell_type": "markdown",
   "id": "26c6b347",
   "metadata": {},
   "source": [
    " # МЕТОДЫ ПРОГРАММИРОВАНИЯ. Лабораторная №4"
   ]
  },
  {
   "cell_type": "markdown",
   "id": "4c48c8d7",
   "metadata": {},
   "source": [
    "1. Модифицировать (предложить собственные) два метода генерации псевдослучайных чисел.\n",
    "2. Получить не менее 10 выборок каждым методом (диапазон чисел в каждой выборке не менее 10000) объемом не менее 50 элементов каждая.\n",
    "3. Для каждой выборки посчитать среднее, отклонение и коэффициент вариации. Сделать вывод об однородности выборки.\n",
    "4. Каждую выборку проверить на равномерность распределения и случайность, используя критерий Хи-квадрат.\n",
    "5. Засечь время генерации чисел от тысячи до миллиона элементов обоими предложенными методами и любым стандартным методом используемого языка программирования. Построить графики сравнения скоростей в зависимости от объема выборки."
   ]
  },
  {
   "cell_type": "code",
   "execution_count": 143,
   "id": "5c6a526e",
   "metadata": {},
   "outputs": [],
   "source": [
    "seed1 = 23748\n",
    "def random1(min_val, max_val):\n",
    "    global seed1\n",
    "    seed1 = seed1 * 328942 + 1728\n",
    "    return min_val + seed1  % (max_val - min_val)"
   ]
  },
  {
   "cell_type": "code",
   "execution_count": 198,
   "id": "d88ff358",
   "metadata": {},
   "outputs": [],
   "source": [
    "# почти  math.random \n",
    "seed21 = 27\n",
    "seed22 = 53\n",
    "def random2(min_val, max_val): \n",
    "    global seed21\n",
    "    global seed22\n",
    "    seed21 = 3489 * (seed21 & 0xffff) + (seed21 >> 16)\n",
    "    seed22 = 23921 * (seed22 & 0xffff) + (seed22 >> 16);\n",
    "    return min_val + ((seed21 << 16) + (seed22 & 0xffff)) % (max_val - min_val)\n"
   ]
  },
  {
   "cell_type": "code",
   "execution_count": 199,
   "id": "0030c9cb",
   "metadata": {},
   "outputs": [],
   "source": [
    "ns = [100, 250, 500, 750, 1000, 2500, 5000, 10000]\n",
    "a1, a2, a3, a4, a5, a6, a7, a8 = [], [], [], [], [], [], [], []\n",
    "b1, b2, b3, b4, b5, b6, b7, b8 = [], [], [], [], [], [], [], []\n",
    "list1 = [a1, a2, a3, a4, a5, a6, a7, a8]\n",
    "list2 = [b1, b2, b3, b4, b5, b6, b7, b8]\n",
    "for i in range(len(ns)):\n",
    "    for j in range(ns[i]):\n",
    "        list1[i].append(random1(0,50000))\n",
    "        list2[i].append(random2(0,50000))  "
   ]
  },
  {
   "cell_type": "code",
   "execution_count": 200,
   "id": "ddfa4370",
   "metadata": {},
   "outputs": [],
   "source": [
    "# считаем среднее: \n",
    "list1sr = []\n",
    "list2sr = []\n",
    "for i in range(len(ns)):\n",
    "    sr1 = 0\n",
    "    sr2 = 0\n",
    "    for j in range(ns[i]):\n",
    "        sr1 += list1[i][j]\n",
    "        sr2 += list2[i][j]\n",
    "    sr1 /= ns[i]\n",
    "    sr2 /= ns[i]\n",
    "    list1sr.append(sr1)\n",
    "    list2sr.append(sr2)"
   ]
  },
  {
   "cell_type": "code",
   "execution_count": 201,
   "id": "6abe65e6",
   "metadata": {},
   "outputs": [],
   "source": [
    "# считаем отклонение = sum[(x-sr)**2]/n: \n",
    "list1s = []\n",
    "list2s = []\n",
    "for i in range(len(ns)):\n",
    "    s1 = 0\n",
    "    s2 = 0\n",
    "    for j in range(ns[i]):\n",
    "        s1 += (list1[i][j] - list1sr[i])**2\n",
    "        s2 += (list2[i][j] - list2sr[i])**2\n",
    "    s1 = (s1/ns[i])**(0.5)\n",
    "    s2 = (s2/ns[i])**(0.5)\n",
    "    list1s.append(s1)\n",
    "    list2s.append(s2)"
   ]
  },
  {
   "cell_type": "code",
   "execution_count": 202,
   "id": "8a88006b",
   "metadata": {},
   "outputs": [],
   "source": [
    "# считаем коэффициент вариации = стандартное отклонение/среднее: \n",
    "list1cv = []\n",
    "list2cv = []\n",
    "for i in range(len(ns)):\n",
    "    cv1 = list1s[i]/list1sr[i] * 100\n",
    "    cv2 = list2s[i]/list2sr[i] * 100\n",
    "    list1cv.append(cv1)\n",
    "    list2cv.append(cv2)"
   ]
  },
  {
   "cell_type": "code",
   "execution_count": 68,
   "id": "18dc9f7a",
   "metadata": {},
   "outputs": [],
   "source": [
    "import pandas as pd # для красивого вывода рассчетов"
   ]
  },
  {
   "cell_type": "code",
   "execution_count": 203,
   "id": "94d69d5f",
   "metadata": {},
   "outputs": [
    {
     "data": {
      "text/html": [
       "<div>\n",
       "<style scoped>\n",
       "    .dataframe tbody tr th:only-of-type {\n",
       "        vertical-align: middle;\n",
       "    }\n",
       "\n",
       "    .dataframe tbody tr th {\n",
       "        vertical-align: top;\n",
       "    }\n",
       "\n",
       "    .dataframe thead th {\n",
       "        text-align: right;\n",
       "    }\n",
       "</style>\n",
       "<table border=\"1\" class=\"dataframe\">\n",
       "  <thead>\n",
       "    <tr style=\"text-align: right;\">\n",
       "      <th></th>\n",
       "      <th>1</th>\n",
       "      <th>2</th>\n",
       "      <th>3</th>\n",
       "      <th>4</th>\n",
       "      <th>5</th>\n",
       "      <th>6</th>\n",
       "      <th>7</th>\n",
       "      <th>8</th>\n",
       "    </tr>\n",
       "  </thead>\n",
       "  <tbody>\n",
       "    <tr>\n",
       "      <th>размер выборки</th>\n",
       "      <td>100.000000</td>\n",
       "      <td>250.000000</td>\n",
       "      <td>500.000000</td>\n",
       "      <td>750.000000</td>\n",
       "      <td>1000.000000</td>\n",
       "      <td>2500.000000</td>\n",
       "      <td>5000.000000</td>\n",
       "      <td>10000.000000</td>\n",
       "    </tr>\n",
       "    <tr>\n",
       "      <th>среднее</th>\n",
       "      <td>25432.000000</td>\n",
       "      <td>25096.256000</td>\n",
       "      <td>25452.000000</td>\n",
       "      <td>24463.914667</td>\n",
       "      <td>25132.000000</td>\n",
       "      <td>24992.000000</td>\n",
       "      <td>24992.000000</td>\n",
       "      <td>24992.000000</td>\n",
       "    </tr>\n",
       "    <tr>\n",
       "      <th>отклонение</th>\n",
       "      <td>14446.137200</td>\n",
       "      <td>13704.732186</td>\n",
       "      <td>14466.266968</td>\n",
       "      <td>14377.542025</td>\n",
       "      <td>14624.283914</td>\n",
       "      <td>14433.760425</td>\n",
       "      <td>14433.760425</td>\n",
       "      <td>14433.760425</td>\n",
       "    </tr>\n",
       "    <tr>\n",
       "      <th>коэффициент вариации</th>\n",
       "      <td>56.802993</td>\n",
       "      <td>54.608672</td>\n",
       "      <td>56.837447</td>\n",
       "      <td>58.770406</td>\n",
       "      <td>58.189893</td>\n",
       "      <td>57.753523</td>\n",
       "      <td>57.753523</td>\n",
       "      <td>57.753523</td>\n",
       "    </tr>\n",
       "  </tbody>\n",
       "</table>\n",
       "</div>"
      ],
      "text/plain": [
       "                                 1             2             3             4  \\\n",
       "размер выборки          100.000000    250.000000    500.000000    750.000000   \n",
       "среднее               25432.000000  25096.256000  25452.000000  24463.914667   \n",
       "отклонение            14446.137200  13704.732186  14466.266968  14377.542025   \n",
       "коэффициент вариации     56.802993     54.608672     56.837447     58.770406   \n",
       "\n",
       "                                 5             6             7             8  \n",
       "размер выборки         1000.000000   2500.000000   5000.000000  10000.000000  \n",
       "среднее               25132.000000  24992.000000  24992.000000  24992.000000  \n",
       "отклонение            14624.283914  14433.760425  14433.760425  14433.760425  \n",
       "коэффициент вариации     58.189893     57.753523     57.753523     57.753523  "
      ]
     },
     "execution_count": 203,
     "metadata": {},
     "output_type": "execute_result"
    }
   ],
   "source": [
    "# для первого генератора\n",
    "columns1 = [1,2,3,4,5,6,7,8]\n",
    "data1 = [ns, list1sr, list1s, list1cv]\n",
    "index1 = ['размер выборки', 'среднее', 'отклонение', 'коэффициент вариации']\n",
    "df1 = pd.DataFrame(data1, index1, columns1)\n",
    "df1"
   ]
  },
  {
   "cell_type": "code",
   "execution_count": 204,
   "id": "11317838",
   "metadata": {
    "scrolled": false
   },
   "outputs": [
    {
     "data": {
      "text/html": [
       "<div>\n",
       "<style scoped>\n",
       "    .dataframe tbody tr th:only-of-type {\n",
       "        vertical-align: middle;\n",
       "    }\n",
       "\n",
       "    .dataframe tbody tr th {\n",
       "        vertical-align: top;\n",
       "    }\n",
       "\n",
       "    .dataframe thead th {\n",
       "        text-align: right;\n",
       "    }\n",
       "</style>\n",
       "<table border=\"1\" class=\"dataframe\">\n",
       "  <thead>\n",
       "    <tr style=\"text-align: right;\">\n",
       "      <th></th>\n",
       "      <th>1</th>\n",
       "      <th>2</th>\n",
       "      <th>3</th>\n",
       "      <th>4</th>\n",
       "      <th>5</th>\n",
       "      <th>6</th>\n",
       "      <th>7</th>\n",
       "      <th>8</th>\n",
       "    </tr>\n",
       "  </thead>\n",
       "  <tbody>\n",
       "    <tr>\n",
       "      <th>размер выборки</th>\n",
       "      <td>100.000000</td>\n",
       "      <td>250.000000</td>\n",
       "      <td>500.000000</td>\n",
       "      <td>750.000000</td>\n",
       "      <td>1000.000000</td>\n",
       "      <td>2500.000000</td>\n",
       "      <td>5000.000000</td>\n",
       "      <td>10000.000000</td>\n",
       "    </tr>\n",
       "    <tr>\n",
       "      <th>среднее</th>\n",
       "      <td>23677.280000</td>\n",
       "      <td>23287.988000</td>\n",
       "      <td>24651.462000</td>\n",
       "      <td>24937.157333</td>\n",
       "      <td>24681.713000</td>\n",
       "      <td>25440.752800</td>\n",
       "      <td>24962.290400</td>\n",
       "      <td>25009.466300</td>\n",
       "    </tr>\n",
       "    <tr>\n",
       "      <th>отклонение</th>\n",
       "      <td>14370.088499</td>\n",
       "      <td>14802.576497</td>\n",
       "      <td>14421.309769</td>\n",
       "      <td>14396.296215</td>\n",
       "      <td>14357.994361</td>\n",
       "      <td>14490.328137</td>\n",
       "      <td>14423.599186</td>\n",
       "      <td>14472.106169</td>\n",
       "    </tr>\n",
       "    <tr>\n",
       "      <th>коэффициент вариации</th>\n",
       "      <td>60.691467</td>\n",
       "      <td>63.563140</td>\n",
       "      <td>58.500830</td>\n",
       "      <td>57.730302</td>\n",
       "      <td>58.172601</td>\n",
       "      <td>56.957152</td>\n",
       "      <td>57.781554</td>\n",
       "      <td>57.866513</td>\n",
       "    </tr>\n",
       "  </tbody>\n",
       "</table>\n",
       "</div>"
      ],
      "text/plain": [
       "                                 1             2             3             4  \\\n",
       "размер выборки          100.000000    250.000000    500.000000    750.000000   \n",
       "среднее               23677.280000  23287.988000  24651.462000  24937.157333   \n",
       "отклонение            14370.088499  14802.576497  14421.309769  14396.296215   \n",
       "коэффициент вариации     60.691467     63.563140     58.500830     57.730302   \n",
       "\n",
       "                                 5             6             7             8  \n",
       "размер выборки         1000.000000   2500.000000   5000.000000  10000.000000  \n",
       "среднее               24681.713000  25440.752800  24962.290400  25009.466300  \n",
       "отклонение            14357.994361  14490.328137  14423.599186  14472.106169  \n",
       "коэффициент вариации     58.172601     56.957152     57.781554     57.866513  "
      ]
     },
     "execution_count": 204,
     "metadata": {},
     "output_type": "execute_result"
    }
   ],
   "source": [
    "# для второго генератора\n",
    "columns2 = [1,2,3,4,5,6,7,8]\n",
    "data2 = [ ns, list2sr, list2s, list2cv]\n",
    "index2 = ['размер выборки', 'среднее', 'отклонение', 'коэффициент вариации']\n",
    "df2 = pd.DataFrame(data2, index2, columns2,)\n",
    "df2"
   ]
  },
  {
   "cell_type": "markdown",
   "id": "0fda0ef0",
   "metadata": {},
   "source": [
    "среднее = (a+b)/2  </br>\n",
    "отклонение = sqrt((b-a)**2/12)\n"
   ]
  },
  {
   "cell_type": "markdown",
   "id": "9fc33049",
   "metadata": {},
   "source": [
    "# Проверка по критерию Хи-квадрат:"
   ]
  },
  {
   "cell_type": "code",
   "execution_count": 205,
   "id": "7d6c6f85",
   "metadata": {},
   "outputs": [],
   "source": [
    "import math"
   ]
  },
  {
   "cell_type": "code",
   "execution_count": 220,
   "id": "c7f92fee",
   "metadata": {},
   "outputs": [],
   "source": [
    "def hi(l):\n",
    "    hi_t = []\n",
    "    r_t = []\n",
    "    for i in l:\n",
    "        lst = sorted(i) \n",
    "        interval = [] \n",
    "        n = len(i) \n",
    "        summ = 0\n",
    "        r = 1 + math.floor(math.log(n, 2))\n",
    "        r_t.append(r - 1)\n",
    "        n_i = [0] * r\n",
    "        p_i = []\n",
    "        for d in range(0, r + 1):\n",
    "            interval.append(d * 5000 / r)\n",
    "        for c in lst:\n",
    "            for d in range(1, r + 1):\n",
    "                if c < interval[d]:\n",
    "                    n_i[d - 1] +=  1\n",
    "                    break\n",
    "        for d in range(0, r):\n",
    "            p_i.append(((interval[d + 1] + 1) / 10000) - ((interval[d] + 1) / 10000))\n",
    "        for d in range (r):\n",
    "            summ += (((n_i[d] / n) - p_i[d]) ** 2) / p_i[d]\n",
    "        hi_t.append(summ * n)\n",
    "    return(hi_t, r_t)\n"
   ]
  },
  {
   "cell_type": "code",
   "execution_count": 221,
   "id": "0b661274",
   "metadata": {},
   "outputs": [],
   "source": [
    "res1, r1 = hi(list1)\n",
    "res2, r2 = hi(list2)"
   ]
  },
  {
   "cell_type": "code",
   "execution_count": 222,
   "id": "e5e3b79d",
   "metadata": {},
   "outputs": [
    {
     "name": "stdout",
     "output_type": "stream",
     "text": [
      "[39.67999999999999, 90.52, 167.79200000000003, 239.85333333333332, 307.21999999999997, 800.0352, 1600.0480000000002, 3200.256000000001]\n"
     ]
    }
   ],
   "source": [
    "print(res1)"
   ]
  },
  {
   "cell_type": "code",
   "execution_count": 223,
   "id": "b20936a9",
   "metadata": {},
   "outputs": [
    {
     "name": "stdout",
     "output_type": "stream",
     "text": [
      "[31.21999999999999, 70.08800000000001, 146.27200000000002, 238.30666666666664, 328.36, 815.2095999999999, 1635.1995999999997, 3214.7963999999997]\n"
     ]
    }
   ],
   "source": [
    "print(res2)"
   ]
  },
  {
   "cell_type": "markdown",
   "id": "872c378b",
   "metadata": {},
   "source": [
    "# Сравнение времени генерации выборок:"
   ]
  },
  {
   "cell_type": "code",
   "execution_count": 208,
   "id": "64cb24f5",
   "metadata": {},
   "outputs": [],
   "source": [
    "from datetime import datetime\n",
    "import time\n",
    "import numpy as np"
   ]
  },
  {
   "cell_type": "code",
   "execution_count": 209,
   "id": "dd580a3b",
   "metadata": {},
   "outputs": [],
   "source": [
    "import random"
   ]
  },
  {
   "cell_type": "code",
   "execution_count": 210,
   "id": "d0035dee",
   "metadata": {},
   "outputs": [],
   "source": [
    "new_ns = [1000, 10000, 100000, 500000, 1000000] \n",
    "times1 = []\n",
    "times2 = []\n",
    "times3 = [] # для библиотечного генератора\n",
    "\n",
    "for i in new_ns:\n",
    "    start_time1 = datetime.now()\n",
    "    for j in range(i):\n",
    "        random1(0,5000)\n",
    "    end_time1 = datetime.now() - start_time1\n",
    "    times1.append(end_time1)\n",
    "    \n",
    "    start_time2 = datetime.now()\n",
    "    for j in range(i):\n",
    "        random2(0,5000)\n",
    "    end_time2 = datetime.now() - start_time2\n",
    "    times2.append(end_time2)\n",
    "    \n",
    "    start_time3 = datetime.now()\n",
    "    for j in range(i):\n",
    "        random.randint(0,5000)\n",
    "    end_time3 = datetime.now() - start_time3\n",
    "    times3.append(end_time3)"
   ]
  },
  {
   "cell_type": "code",
   "execution_count": 211,
   "id": "6e7331c8",
   "metadata": {},
   "outputs": [],
   "source": [
    "import matplotlib.pyplot as plt # для построения графика"
   ]
  },
  {
   "cell_type": "code",
   "execution_count": 212,
   "id": "e9150098",
   "metadata": {},
   "outputs": [
    {
     "name": "stdout",
     "output_type": "stream",
     "text": [
      "[datetime.timedelta(microseconds=865207), datetime.timedelta(seconds=9, microseconds=54750), datetime.timedelta(seconds=132, microseconds=465769), datetime.timedelta(seconds=1792, microseconds=341009), datetime.timedelta(seconds=8875, microseconds=149098)]\n",
      "[datetime.timedelta(microseconds=652), datetime.timedelta(microseconds=6274), datetime.timedelta(microseconds=63781), datetime.timedelta(microseconds=318749), datetime.timedelta(microseconds=554901)]\n",
      "[datetime.timedelta(microseconds=736), datetime.timedelta(microseconds=7759), datetime.timedelta(microseconds=78956), datetime.timedelta(microseconds=393304), datetime.timedelta(microseconds=703144)]\n"
     ]
    }
   ],
   "source": [
    "print(times1)\n",
    "print(times2)\n",
    "print(times3)"
   ]
  },
  {
   "cell_type": "code",
   "execution_count": 213,
   "id": "1e1c48f0",
   "metadata": {},
   "outputs": [],
   "source": [
    "import datetime\n",
    "\n",
    "# преобразуем микросекунды в float\n",
    "for i in range(len(new_ns)):\n",
    "    times1[i] = times1[i].total_seconds() #* 1000000\n",
    "    times2[i] = times2[i].total_seconds() #* 1000000\n",
    "    times3[i] = times3[i].total_seconds() #* 1000000     "
   ]
  },
  {
   "cell_type": "code",
   "execution_count": 215,
   "id": "36e8ebf4",
   "metadata": {},
   "outputs": [
    {
     "data": {
      "image/png": "[encoded data removed]",
      "text/plain": [
       "<Figure size 864x504 with 1 Axes>"
      ]
     },
     "metadata": {
      "needs_background": "light"
     },
     "output_type": "display_data"
    }
   ],
   "source": [
    "# x = [1, 5, 10, 15, 20]\n",
    "y = [1000, 10000, 100000, 500000, 1000000] \n",
    "plt.figure(figsize=(12, 7))\n",
    "plt.plot(times1, y, 'o-g', alpha=0.7, label=\"1ый генератор\", lw=5, mec='black', mew=2, ms=10)\n",
    "plt.plot(times2, y, 'v-.b', label=\"2ой генератор\", mec='r', lw=2, mew=2, ms=12)\n",
    "plt.plot(times3, y, 'd-.g', label=\"библиотечный генератор\", mec='r', lw=2, mew=2, ms=12)\n",
    "plt.legend()\n",
    "plt.grid(True)"
   ]
  },
  {
   "cell_type": "code",
   "execution_count": 216,
   "id": "760915d1",
   "metadata": {},
   "outputs": [
    {
     "data": {
      "image/png": "[encoded data removed]",
      "text/plain": [
       "<Figure size 864x504 with 1 Axes>"
      ]
     },
     "metadata": {
      "needs_background": "light"
     },
     "output_type": "display_data"
    }
   ],
   "source": [
    "\n",
    "y = [1000, 10000, 100000, 500000, 1000000] \n",
    "plt.figure(figsize=(12, 7))\n",
    "# plt.plot(times1, y, 'o-g', alpha=0.7, label=\"1ый генератор\", lw=5, mec='black', mew=2, ms=10)\n",
    "plt.plot(times2, y, 'v-.b', label=\"2ой генератор\", mec='r', lw=2, mew=2, ms=12)\n",
    "plt.plot(times3, y, 'd-.g', label=\"библиотечный генератор\", mec='r', lw=2, mew=2, ms=12)\n",
    "plt.legend()\n",
    "plt.grid(True)"
   ]
  },
  {
   "cell_type": "code",
   "execution_count": null,
   "id": "e9c40bef",
   "metadata": {},
   "outputs": [],
   "source": []
  }
 ],
 "metadata": {
  "kernelspec": {
   "display_name": "Python 3 (ipykernel)",
   "language": "python",
   "name": "python3"
  },
  "language_info": {
   "codemirror_mode": {
    "name": "ipython",
    "version": 3
   },
   "file_extension": ".py",
   "mimetype": "text/x-python",
   "name": "python",
   "nbconvert_exporter": "python",
   "pygments_lexer": "ipython3",
   "version": "3.9.7"
  }
 },
 "nbformat": 4,
 "nbformat_minor": 5
}
